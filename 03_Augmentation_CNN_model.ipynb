{
  "nbformat": 4,
  "nbformat_minor": 0,
  "metadata": {
    "colab": {
      "provenance": [],
      "gpuType": "T4",
      "authorship_tag": "ABX9TyM1yDeklk5Z2199rcbyfYHa",
      "include_colab_link": true
    },
    "kernelspec": {
      "name": "python3",
      "display_name": "Python 3"
    },
    "language_info": {
      "name": "python"
    },
    "accelerator": "GPU"
  },
  "cells": [
    {
      "cell_type": "markdown",
      "metadata": {
        "id": "view-in-github",
        "colab_type": "text"
      },
      "source": [
        "<a href=\"https://colab.research.google.com/github/safaabuzaid/xai-brain-tumor-classification/blob/main/03_Augmentation_CNN_model.ipynb\" target=\"_parent\"><img src=\"https://colab.research.google.com/assets/colab-badge.svg\" alt=\"Open In Colab\"/></a>"
      ]
    },
    {
      "cell_type": "markdown",
      "source": [
        "##1. SetUp and Imports"
      ],
      "metadata": {
        "id": "nOaMBL7Gli0A"
      }
    },
    {
      "cell_type": "code",
      "execution_count": 1,
      "metadata": {
        "id": "Jlw8UxRNcssg",
        "colab": {
          "base_uri": "https://localhost:8080/"
        },
        "outputId": "fb1ba75f-f305-4c38-b7ad-b70970ad6a75"
      },
      "outputs": [
        {
          "output_type": "stream",
          "name": "stdout",
          "text": [
            "cuda\n"
          ]
        }
      ],
      "source": [
        "import torch\n",
        "import torch.nn as nn\n",
        "import torch.optim as optim\n",
        "import torchvision\n",
        "from torchvision import datasets, transforms, models\n",
        "from torch.utils.data import DataLoader\n",
        "import matplotlib.pyplot as plt\n",
        "import numpy as np\n",
        "\n",
        "device = torch.device(\"cuda\" if torch.cuda.is_available() else \"cpu\")\n",
        "print (device)"
      ]
    },
    {
      "cell_type": "code",
      "source": [
        "from google.colab import drive\n",
        "drive.mount('/content/drive')"
      ],
      "metadata": {
        "colab": {
          "base_uri": "https://localhost:8080/"
        },
        "id": "giL9ReAFc8hM",
        "outputId": "a76a7c75-23da-49a0-fb6b-bc3edb52ec0c"
      },
      "execution_count": 2,
      "outputs": [
        {
          "output_type": "stream",
          "name": "stdout",
          "text": [
            "Mounted at /content/drive\n"
          ]
        }
      ]
    },
    {
      "cell_type": "code",
      "source": [
        "data_root = \"/content/drive/MyDrive/Data/MRI_data/data_preprocessed\"\n",
        "training_data = f\"{data_root}/Training\"\n",
        "testing_data = f\"{data_root}/Testing\""
      ],
      "metadata": {
        "id": "Xhn7jYDtdDdK"
      },
      "execution_count": 3,
      "outputs": []
    },
    {
      "cell_type": "markdown",
      "source": [
        "##2. Data Augmentation and Normalization\n",
        "\n",
        "**Goal:** Apply augmentation only to training data and normalization to both.\n",
        "\n",
        "**Augmentations to include:**\n",
        "\n",
        "(Training)\n",
        "- Random horizontal/vertical flips\n",
        "\n",
        "- Random rotation\n",
        "\n",
        "- Random brightness/contrast changes\n",
        "\n",
        "- Small random zoom or crop\n",
        "\n",
        "(Testing)\n",
        "- Resizing\n",
        "- Normalization"
      ],
      "metadata": {
        "id": "b0gzZ2n1lu5N"
      }
    },
    {
      "cell_type": "code",
      "source": [
        "train_transforms = transforms.Compose([\n",
        "    transforms.Resize((224,224)),\n",
        "    transforms.RandomHorizontalFlip(),\n",
        "    transforms.RandomVerticalFlip(),\n",
        "    transforms.RandomRotation(15),\n",
        "    transforms.ColorJitter(brightness=0.2, contrast=0.2),\n",
        "    transforms.ToTensor(),\n",
        "    transforms.Normalize([0.5,0.5,0.5], [0.5,0.5,0.5])\n",
        "])\n",
        "\n",
        "test_transforms = transforms.Compose([\n",
        "    transforms.Resize((224,224)),\n",
        "    transforms.ToTensor(),\n",
        "    transforms.Normalize([0.5,0.5,0.5], [0.5,0.5,0.5])\n",
        "])\n"
      ],
      "metadata": {
        "id": "APvXvbvsgYqw"
      },
      "execution_count": 4,
      "outputs": []
    },
    {
      "cell_type": "markdown",
      "source": [
        "##3. Load Datasets"
      ],
      "metadata": {
        "id": "fO094eAEnlig"
      }
    },
    {
      "cell_type": "code",
      "source": [
        "train_data = datasets.ImageFolder(root=data_root, transform=train_transforms)\n",
        "test_data = datasets.ImageFolder(root=data_root, transform=test_transforms)\n",
        "\n",
        "train_loader = DataLoader(train_data, batch_size=32, shuffle=True)\n",
        "test_loader = DataLoader(test_data, batch_size=32, shuffle=False)\n"
      ],
      "metadata": {
        "id": "EhjqjGNjnjle"
      },
      "execution_count": 5,
      "outputs": []
    },
    {
      "cell_type": "markdown",
      "source": [
        "#### Visualize Augmented Images\n",
        "\n",
        "**Goal:** Verify augmentations look correct."
      ],
      "metadata": {
        "id": "l8eDDPvMoaUo"
      }
    },
    {
      "cell_type": "code",
      "source": [
        "dataiter = iter(train_loader)\n",
        "images, labels = next(dataiter)\n",
        "\n",
        "# Unnormalize and plot\n",
        "def imshow(img):\n",
        "    img = img / 2 + 0.5\n",
        "    npimg = img.numpy()\n",
        "    plt.imshow(np.transpose(npimg, (1,2,0)))\n",
        "    plt.show()\n",
        "\n",
        "imshow(torchvision.utils.make_grid(images[:8]))"
      ],
      "metadata": {
        "colab": {
          "base_uri": "https://localhost:8080/",
          "height": 128
        },
        "id": "Gpy72DrHn-qs",
        "outputId": "0fe56a47-4eb3-4886-913b-ef5242b313e7"
      },
      "execution_count": 6,
      "outputs": [
        {
          "output_type": "display_data",
          "data": {
            "text/plain": [
              "<Figure size 640x480 with 1 Axes>"
            ],
            "image/png": "[encoded data removed]"
          },
          "metadata": {}
        }
      ]
    },
    {
      "cell_type": "markdown",
      "source": [
        "## 4. Transfer Learning Model\n",
        "\n",
        "I used a **pre-trained CNN (ResNet18)** as the backbone for the brain tumor classification.\n",
        "\n",
        "- Pre-trained models are trained on **ImageNet**, which means they already know how to extract low-level features like edges, textures, and shapes.\n",
        "\n",
        "- the final fully connected layer was replaced with a new layer matching the number of classes **(4 tumor types)** so that the network can classify the dataset.\n",
        "\n",
        "- The model was moved to the GPU for faster training.\n",
        "\n",
        "*(Transfer learning leverages learned features from ImageNet for better accuracy)*"
      ],
      "metadata": {
        "id": "X4s-rF4AtPlE"
      }
    },
    {
      "cell_type": "code",
      "source": [
        "model = models.resnet18(pretrained=True)  # or EfficientNet\n",
        "num_features = model.fc.in_features\n",
        "model.fc = nn.Linear(num_features, len(train_data.classes))  # Adjust output for 4 classes\n",
        "model = model.to(device)"
      ],
      "metadata": {
        "colab": {
          "base_uri": "https://localhost:8080/"
        },
        "id": "H3W8pp1uqU4B",
        "outputId": "7d4606eb-c9b0-43ad-e54c-636894c63882"
      },
      "execution_count": 7,
      "outputs": [
        {
          "output_type": "stream",
          "name": "stderr",
          "text": [
            "/usr/local/lib/python3.12/dist-packages/torchvision/models/_utils.py:208: UserWarning: The parameter 'pretrained' is deprecated since 0.13 and may be removed in the future, please use 'weights' instead.\n",
            "  warnings.warn(\n",
            "/usr/local/lib/python3.12/dist-packages/torchvision/models/_utils.py:223: UserWarning: Arguments other than a weight enum or `None` for 'weights' are deprecated since 0.13 and may be removed in the future. The current behavior is equivalent to passing `weights=ResNet18_Weights.IMAGENET1K_V1`. You can also use `weights=ResNet18_Weights.DEFAULT` to get the most up-to-date weights.\n",
            "  warnings.warn(msg)\n"
          ]
        },
        {
          "output_type": "stream",
          "name": "stdout",
          "text": [
            "Downloading: \"https://download.pytorch.org/models/resnet18-f37072fd.pth\" to /root/.cache/torch/hub/checkpoints/resnet18-f37072fd.pth\n"
          ]
        },
        {
          "output_type": "stream",
          "name": "stderr",
          "text": [
            "100%|██████████| 44.7M/44.7M [00:00<00:00, 216MB/s]\n"
          ]
        }
      ]
    },
    {
      "cell_type": "markdown",
      "source": [
        "## 5. Loss Function & Optimizer\n",
        "\n",
        "- Loss Function: **CrossEntropyLoss** — suitable for multi-class classification.\n",
        "\n",
        "- Optimizer: **Adam** — automatically adapts the learning rate for each parameter.\n",
        "\n",
        "These choices help the model converge efficiently while minimizing prediction errors."
      ],
      "metadata": {
        "id": "bgYrmMkKuGOZ"
      }
    },
    {
      "cell_type": "code",
      "source": [
        "criterion = nn.CrossEntropyLoss()\n",
        "optimizer = optim.Adam(model.parameters(), lr=0.001)"
      ],
      "metadata": {
        "id": "aUjQdIZMt2BD"
      },
      "execution_count": 8,
      "outputs": []
    },
    {
      "cell_type": "markdown",
      "source": [
        "##6. Model Training\n",
        "\n",
        "the model trained for 15 epochs, iterating through all training images.\n",
        "\n",
        "**During each batch:**\n",
        "\n",
        "1. Images are sent through the network (forward pass).\n",
        "\n",
        "2. Loss is computed by comparing predictions with true labels.\n",
        "\n",
        "3. Gradients are calculated (backward pass) and weights updated.\n",
        "\n",
        "**tracked:**\n",
        "\n",
        "- Training Loss — how far predictions are from truth.\n",
        "\n",
        "- Training Accuracy — how many images were correctly predicted.\n",
        "\n",
        "**Outcome:** The model gradually learns to distinguish between the four classes of brain tumors."
      ],
      "metadata": {
        "id": "Q9ieI8SVuqhs"
      }
    },
    {
      "cell_type": "code",
      "source": [
        "num_epochs = 15\n",
        "\n",
        "for epoch in range(num_epochs):\n",
        "    model.train()\n",
        "    running_loss = 0\n",
        "    correct = 0\n",
        "    total = 0\n",
        "\n",
        "    for images, labels in train_loader:\n",
        "        images, labels = images.to(device), labels.to(device)\n",
        "\n",
        "        optimizer.zero_grad()\n",
        "        outputs = model(images)\n",
        "        loss = criterion(outputs, labels)\n",
        "        loss.backward()\n",
        "        optimizer.step()\n",
        "\n",
        "        running_loss += loss.item()\n",
        "        _, predicted = torch.max(outputs.data, 1)\n",
        "        total += labels.size(0)\n",
        "        correct += (predicted == labels).sum().item()\n",
        "\n",
        "    print(f\"Epoch {epoch+1}/{num_epochs}, Loss: {running_loss/len(train_loader):.4f}, Accuracy: {100*correct/total:.2f}%\")"
      ],
      "metadata": {
        "colab": {
          "base_uri": "https://localhost:8080/"
        },
        "id": "dxLtLrX3ubvR",
        "outputId": "3fd4f0bb-597a-48a7-bb9d-f9a3623e7d80"
      },
      "execution_count": 9,
      "outputs": [
        {
          "output_type": "stream",
          "name": "stdout",
          "text": [
            "Epoch 1/15, Loss: 0.5221, Accuracy: 80.48%\n",
            "Epoch 2/15, Loss: 0.4902, Accuracy: 81.19%\n",
            "Epoch 3/15, Loss: 0.4844, Accuracy: 81.28%\n",
            "Epoch 4/15, Loss: 0.4901, Accuracy: 81.20%\n",
            "Epoch 5/15, Loss: 0.4919, Accuracy: 81.26%\n",
            "Epoch 6/15, Loss: 0.4873, Accuracy: 81.18%\n",
            "Epoch 7/15, Loss: 0.4847, Accuracy: 81.22%\n",
            "Epoch 8/15, Loss: 0.4826, Accuracy: 81.26%\n",
            "Epoch 9/15, Loss: 0.4798, Accuracy: 81.30%\n",
            "Epoch 10/15, Loss: 0.4802, Accuracy: 81.32%\n",
            "Epoch 11/15, Loss: 0.4789, Accuracy: 81.29%\n",
            "Epoch 12/15, Loss: 0.4804, Accuracy: 81.29%\n",
            "Epoch 13/15, Loss: 0.4784, Accuracy: 81.32%\n",
            "Epoch 14/15, Loss: 0.4781, Accuracy: 81.26%\n",
            "Epoch 15/15, Loss: 0.4765, Accuracy: 81.32%\n"
          ]
        }
      ]
    },
    {
      "cell_type": "markdown",
      "source": [
        "##7. Evaluation on Test Set\n",
        "\n",
        "- After training, tested the model on the unseen test set.\n",
        "\n",
        "- Predictions were compared with true labels to compute accuracy.\n",
        "\n",
        "**Purpose:** To check how well the model generalizes to new, unseen data."
      ],
      "metadata": {
        "id": "dCpNPVfCRoCO"
      }
    },
    {
      "cell_type": "code",
      "source": [
        "model.eval()\n",
        "correct = 0\n",
        "total = 0\n",
        "all_preds = []\n",
        "all_labels = []\n",
        "\n",
        "with torch.no_grad():\n",
        "    for images, labels in test_loader:\n",
        "        images, labels = images.to(device), labels.to(device)\n",
        "        outputs = model(images)\n",
        "        _, predicted = torch.max(outputs.data, 1)\n",
        "        total += labels.size(0)\n",
        "        correct += (predicted == labels).sum().item()\n",
        "        all_preds.extend(predicted.cpu().numpy())\n",
        "        all_labels.extend(labels.cpu().numpy())\n",
        "\n",
        "print(f\"Test Accuracy: {100*correct/total:.2f}%\")"
      ],
      "metadata": {
        "colab": {
          "base_uri": "https://localhost:8080/"
        },
        "id": "QjZNW-MIvGeO",
        "outputId": "7b65ad36-a772-4ef7-a3eb-07cec8113c54"
      },
      "execution_count": 10,
      "outputs": [
        {
          "output_type": "stream",
          "name": "stdout",
          "text": [
            "Test Accuracy: 81.33%\n"
          ]
        }
      ]
    },
    {
      "cell_type": "markdown",
      "source": [
        "##8. Save the model"
      ],
      "metadata": {
        "id": "2BVw9JdmSCWw"
      }
    },
    {
      "cell_type": "code",
      "source": [
        "torch.save(model.state_dict(), \"brain_tumor_resnet18.pth\")"
      ],
      "metadata": {
        "id": "abu9lkst5EoC"
      },
      "execution_count": 11,
      "outputs": []
    },
    {
      "cell_type": "markdown",
      "source": [
        "#Model Performance Summary\n",
        "\n",
        "**Model Used:** Transfer Learning with ResNet18\n",
        "\n",
        "**Dataset:** Brain MRI Images (4 classes — total 7,023 images)\n",
        "\n",
        "**Training Details:**\n",
        "\n",
        "- Enhanced and preprocessed images used for training\n",
        "- Data augmentation applied to reduce overfitting\n",
        "\n",
        "**Batch size:** 32\n",
        "\n",
        "**Epochs:** 15\n",
        "\n",
        "**Optimizer:**  Adam\n",
        "\n",
        "**Loss function:** CrossEntropyLoss\n",
        "\n",
        "###Results\n",
        "\n",
        "|Metric |\tTraining  |\tTesting|\n",
        "|-------|-----------|---------|\n",
        "|Accuracy|\t 81.32%    |\t81.33%|\n",
        "|Loss (final)\t|decreased steadily\tmoderate — shows good generalization|\n",
        "\n",
        "###Observations\n",
        "\n",
        "- The model achieved 81.33% accuracy on unseen test data, indicating strong learning and generalization ability.\n",
        "\n",
        "- Given that the dataset was imbalanced, this accuracy is promising — it suggests the model learned meaningful features despite class variation.\n",
        "\n",
        "- Data augmentation (rotations, flips, etc.) helped improve generalization.\n",
        "\n",
        "- Further fine-tuning or experimenting with other architectures (like EfficientNet or DenseNet) could potentially push accuracy beyond 85–88%."
      ],
      "metadata": {
        "id": "0_w8ouaKSHLD"
      }
    }
  ]
}